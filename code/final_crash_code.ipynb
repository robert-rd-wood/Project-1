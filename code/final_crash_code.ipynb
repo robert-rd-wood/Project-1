{
 "cells": [
  {
   "cell_type": "code",
   "execution_count": 1,
   "metadata": {},
   "outputs": [],
   "source": [
    "from matplotlib import pyplot as plt\n",
    "from scipy.stats import linregress\n",
    "import numpy as np\n",
    "import pandas as pd "
   ]
  },
  {
   "cell_type": "code",
   "execution_count": 2,
   "metadata": {},
   "outputs": [
    {
     "name": "stderr",
     "output_type": "stream",
     "text": [
      "C:\\Users\\emhar\\Anaconda3\\envs\\pleasework\\lib\\site-packages\\IPython\\core\\interactiveshell.py:3020: DtypeWarning: Columns (11,12,19,20,21,22,23,24,25,26,28) have mixed types. Specify dtype option on import or set low_memory=False.\n",
      "  interactivity=interactivity, compiler=compiler, result=result)\n"
     ]
    }
   ],
   "source": [
    " # Import data into pandas from CSV\n",
    "tp='C:/Users/emhar/Desktop/PythonStuff/Project/Traffic_Crashes_-_People.csv'\n",
    "traffic_people=pd.read_csv(tp)\n"
   ]
  },
  {
   "cell_type": "code",
   "execution_count": 3,
   "metadata": {
    "scrolled": true
   },
   "outputs": [
    {
     "name": "stderr",
     "output_type": "stream",
     "text": [
      "C:\\Users\\emhar\\Anaconda3\\envs\\pleasework\\lib\\site-packages\\IPython\\core\\interactiveshell.py:3020: DtypeWarning: Columns (18,39,40,41,43,47,48,49,54,57,58,60,70) have mixed types. Specify dtype option on import or set low_memory=False.\n",
      "  interactivity=interactivity, compiler=compiler, result=result)\n"
     ]
    }
   ],
   "source": [
    "tv='C:/Users/emhar/Desktop/PythonStuff/Project/Traffic_Crashes_-_Vehicles.csv'\n",
    "traffic_vehicles=pd.read_csv(tv)\n"
   ]
  },
  {
   "cell_type": "code",
   "execution_count": 4,
   "metadata": {
    "scrolled": false
   },
   "outputs": [],
   "source": [
    "tc='C:/Users/emhar/Desktop/PythonStuff/Project/Traffic_Crashes_-_Crashes.csv'\n",
    "traffic_crashes=pd.read_csv(tc)\n"
   ]
  },
  {
   "cell_type": "code",
   "execution_count": 5,
   "metadata": {},
   "outputs": [],
   "source": [
    "rlcl='C:/Users/emhar/Desktop/PythonStuff/Project/Red_Light_Camera_Locations.csv'\n",
    "red_locations=pd.read_csv(rlcl)\n"
   ]
  },
  {
   "cell_type": "code",
   "execution_count": 6,
   "metadata": {},
   "outputs": [],
   "source": [
    "\n",
    "scl = 'C:/Users/emhar/Desktop/PythonStuff/Project/Speed_Camera_Locations.csv'\n",
    "speed_locations = pd.read_csv(scl)\n"
   ]
  },
  {
   "cell_type": "code",
   "execution_count": 7,
   "metadata": {},
   "outputs": [
    {
     "data": {
      "text/html": [
       "<div>\n",
       "<style scoped>\n",
       "    .dataframe tbody tr th:only-of-type {\n",
       "        vertical-align: middle;\n",
       "    }\n",
       "\n",
       "    .dataframe tbody tr th {\n",
       "        vertical-align: top;\n",
       "    }\n",
       "\n",
       "    .dataframe thead th {\n",
       "        text-align: right;\n",
       "    }\n",
       "</style>\n",
       "<table border=\"1\" class=\"dataframe\">\n",
       "  <thead>\n",
       "    <tr style=\"text-align: right;\">\n",
       "      <th></th>\n",
       "      <th>ADDRESS</th>\n",
       "      <th>CAMERA ID</th>\n",
       "      <th>VIOLATION DATE</th>\n",
       "      <th>VIOLATIONS</th>\n",
       "      <th>X COORDINATE</th>\n",
       "      <th>Y COORDINATE</th>\n",
       "      <th>LATITUDE</th>\n",
       "      <th>LONGITUDE</th>\n",
       "      <th>LOCATION</th>\n",
       "    </tr>\n",
       "  </thead>\n",
       "  <tbody>\n",
       "    <tr>\n",
       "      <th>0</th>\n",
       "      <td>7738 S WESTERN</td>\n",
       "      <td>CHI065</td>\n",
       "      <td>07/08/2014</td>\n",
       "      <td>65</td>\n",
       "      <td>NaN</td>\n",
       "      <td>NaN</td>\n",
       "      <td>NaN</td>\n",
       "      <td>NaN</td>\n",
       "      <td>NaN</td>\n",
       "    </tr>\n",
       "    <tr>\n",
       "      <th>1</th>\n",
       "      <td>1111 N HUMBOLDT</td>\n",
       "      <td>CHI010</td>\n",
       "      <td>07/16/2014</td>\n",
       "      <td>56</td>\n",
       "      <td>NaN</td>\n",
       "      <td>NaN</td>\n",
       "      <td>NaN</td>\n",
       "      <td>NaN</td>\n",
       "      <td>NaN</td>\n",
       "    </tr>\n",
       "    <tr>\n",
       "      <th>2</th>\n",
       "      <td>5520 S WESTERN</td>\n",
       "      <td>CHI069</td>\n",
       "      <td>07/08/2014</td>\n",
       "      <td>10</td>\n",
       "      <td>NaN</td>\n",
       "      <td>NaN</td>\n",
       "      <td>NaN</td>\n",
       "      <td>NaN</td>\n",
       "      <td>NaN</td>\n",
       "    </tr>\n",
       "    <tr>\n",
       "      <th>3</th>\n",
       "      <td>1111 N HUMBOLDT</td>\n",
       "      <td>CHI010</td>\n",
       "      <td>07/26/2014</td>\n",
       "      <td>101</td>\n",
       "      <td>NaN</td>\n",
       "      <td>NaN</td>\n",
       "      <td>NaN</td>\n",
       "      <td>NaN</td>\n",
       "      <td>NaN</td>\n",
       "    </tr>\n",
       "    <tr>\n",
       "      <th>4</th>\n",
       "      <td>1111 N HUMBOLDT</td>\n",
       "      <td>CHI010</td>\n",
       "      <td>07/27/2014</td>\n",
       "      <td>92</td>\n",
       "      <td>NaN</td>\n",
       "      <td>NaN</td>\n",
       "      <td>NaN</td>\n",
       "      <td>NaN</td>\n",
       "      <td>NaN</td>\n",
       "    </tr>\n",
       "  </tbody>\n",
       "</table>\n",
       "</div>"
      ],
      "text/plain": [
       "           ADDRESS CAMERA ID VIOLATION DATE  VIOLATIONS  X COORDINATE  \\\n",
       "0   7738 S WESTERN    CHI065     07/08/2014          65           NaN   \n",
       "1  1111 N HUMBOLDT    CHI010     07/16/2014          56           NaN   \n",
       "2   5520 S WESTERN    CHI069     07/08/2014          10           NaN   \n",
       "3  1111 N HUMBOLDT    CHI010     07/26/2014         101           NaN   \n",
       "4  1111 N HUMBOLDT    CHI010     07/27/2014          92           NaN   \n",
       "\n",
       "   Y COORDINATE  LATITUDE  LONGITUDE LOCATION  \n",
       "0           NaN       NaN        NaN      NaN  \n",
       "1           NaN       NaN        NaN      NaN  \n",
       "2           NaN       NaN        NaN      NaN  \n",
       "3           NaN       NaN        NaN      NaN  \n",
       "4           NaN       NaN        NaN      NaN  "
      ]
     },
     "execution_count": 7,
     "metadata": {},
     "output_type": "execute_result"
    }
   ],
   "source": [
    "scv='C:/Users/emhar/Desktop/PythonStuff/Project/Speed_Camera_Violations.csv'\n",
    "speed_violations=pd.read_csv(scv)\n",
    "speed_violations['LONGITUDE'].dropna(how='any', inplace=True)  \n",
    "speed_violations.head()"
   ]
  },
  {
   "cell_type": "code",
   "execution_count": 8,
   "metadata": {},
   "outputs": [
    {
     "data": {
      "text/html": [
       "<div>\n",
       "<style scoped>\n",
       "    .dataframe tbody tr th:only-of-type {\n",
       "        vertical-align: middle;\n",
       "    }\n",
       "\n",
       "    .dataframe tbody tr th {\n",
       "        vertical-align: top;\n",
       "    }\n",
       "\n",
       "    .dataframe thead th {\n",
       "        text-align: right;\n",
       "    }\n",
       "</style>\n",
       "<table border=\"1\" class=\"dataframe\">\n",
       "  <thead>\n",
       "    <tr style=\"text-align: right;\">\n",
       "      <th></th>\n",
       "      <th>INTERSECTION</th>\n",
       "      <th>CAMERA ID</th>\n",
       "      <th>ADDRESS</th>\n",
       "      <th>VIOLATION DATE</th>\n",
       "      <th>VIOLATIONS</th>\n",
       "      <th>X COORDINATE</th>\n",
       "      <th>Y COORDINATE</th>\n",
       "      <th>LATITUDE</th>\n",
       "      <th>LONGITUDE</th>\n",
       "      <th>LOCATION</th>\n",
       "    </tr>\n",
       "  </thead>\n",
       "  <tbody>\n",
       "    <tr>\n",
       "      <th>1</th>\n",
       "      <td>RIDGE AND CLARK</td>\n",
       "      <td>1051.0</td>\n",
       "      <td>5930 N CLARK STREET</td>\n",
       "      <td>12/09/2014</td>\n",
       "      <td>2</td>\n",
       "      <td>1.164555e+06</td>\n",
       "      <td>1.939389e+06</td>\n",
       "      <td>41.989299</td>\n",
       "      <td>-87.670104</td>\n",
       "      <td>(41.98929863013193, -87.67010412112992)</td>\n",
       "    </tr>\n",
       "    <tr>\n",
       "      <th>4</th>\n",
       "      <td>PULASKI AND FULLERTON</td>\n",
       "      <td>1484.0</td>\n",
       "      <td>4000 W FULLERTON AVE</td>\n",
       "      <td>11/29/2017</td>\n",
       "      <td>2</td>\n",
       "      <td>1.149303e+06</td>\n",
       "      <td>1.915695e+06</td>\n",
       "      <td>41.924593</td>\n",
       "      <td>-87.726819</td>\n",
       "      <td>(41.92459302175305, -87.7268192684032)</td>\n",
       "    </tr>\n",
       "    <tr>\n",
       "      <th>16</th>\n",
       "      <td>MADISON AND WESTERN</td>\n",
       "      <td>1934.0</td>\n",
       "      <td>2400 W MADISON</td>\n",
       "      <td>01/13/2016</td>\n",
       "      <td>3</td>\n",
       "      <td>1.160385e+06</td>\n",
       "      <td>1.899989e+06</td>\n",
       "      <td>41.881271</td>\n",
       "      <td>-87.686536</td>\n",
       "      <td>(41.88127050428818, -87.68653594017124)</td>\n",
       "    </tr>\n",
       "    <tr>\n",
       "      <th>40</th>\n",
       "      <td>LAWRENCE AND CICERO</td>\n",
       "      <td>1041.0</td>\n",
       "      <td>4800 N CICERO AVE</td>\n",
       "      <td>10/20/2016</td>\n",
       "      <td>7</td>\n",
       "      <td>1.143465e+06</td>\n",
       "      <td>1.931491e+06</td>\n",
       "      <td>41.968048</td>\n",
       "      <td>-87.747876</td>\n",
       "      <td>(41.968048007293845, -87.74787598468126)</td>\n",
       "    </tr>\n",
       "    <tr>\n",
       "      <th>42</th>\n",
       "      <td>LAWRENCE AND WESTERN</td>\n",
       "      <td>1192.0</td>\n",
       "      <td>4800 N WESTERN AVENUE</td>\n",
       "      <td>06/17/2018</td>\n",
       "      <td>7</td>\n",
       "      <td>1.159460e+06</td>\n",
       "      <td>1.931821e+06</td>\n",
       "      <td>41.968641</td>\n",
       "      <td>-87.689054</td>\n",
       "      <td>(41.96864072747715, -87.6890542408374)</td>\n",
       "    </tr>\n",
       "  </tbody>\n",
       "</table>\n",
       "</div>"
      ],
      "text/plain": [
       "             INTERSECTION  CAMERA ID                ADDRESS VIOLATION DATE  \\\n",
       "1         RIDGE AND CLARK     1051.0    5930 N CLARK STREET     12/09/2014   \n",
       "4   PULASKI AND FULLERTON     1484.0   4000 W FULLERTON AVE     11/29/2017   \n",
       "16    MADISON AND WESTERN     1934.0         2400 W MADISON     01/13/2016   \n",
       "40    LAWRENCE AND CICERO     1041.0      4800 N CICERO AVE     10/20/2016   \n",
       "42   LAWRENCE AND WESTERN     1192.0  4800 N WESTERN AVENUE     06/17/2018   \n",
       "\n",
       "    VIOLATIONS  X COORDINATE  Y COORDINATE   LATITUDE  LONGITUDE  \\\n",
       "1            2  1.164555e+06  1.939389e+06  41.989299 -87.670104   \n",
       "4            2  1.149303e+06  1.915695e+06  41.924593 -87.726819   \n",
       "16           3  1.160385e+06  1.899989e+06  41.881271 -87.686536   \n",
       "40           7  1.143465e+06  1.931491e+06  41.968048 -87.747876   \n",
       "42           7  1.159460e+06  1.931821e+06  41.968641 -87.689054   \n",
       "\n",
       "                                    LOCATION  \n",
       "1    (41.98929863013193, -87.67010412112992)  \n",
       "4     (41.92459302175305, -87.7268192684032)  \n",
       "16   (41.88127050428818, -87.68653594017124)  \n",
       "40  (41.968048007293845, -87.74787598468126)  \n",
       "42    (41.96864072747715, -87.6890542408374)  "
      ]
     },
     "execution_count": 8,
     "metadata": {},
     "output_type": "execute_result"
    }
   ],
   "source": [
    "rlcv='C:/Users/emhar/Desktop/PythonStuff/Project/Red_Light_Camera_Violations.csv'\n",
    "red_violations=pd.read_csv(rlcv)\n",
    "red_violations.dropna(how='any', inplace=True)  \n",
    "red_violations.head()"
   ]
  },
  {
   "cell_type": "code",
   "execution_count": 9,
   "metadata": {},
   "outputs": [
    {
     "data": {
      "text/html": [
       "<div>\n",
       "<style scoped>\n",
       "    .dataframe tbody tr th:only-of-type {\n",
       "        vertical-align: middle;\n",
       "    }\n",
       "\n",
       "    .dataframe tbody tr th {\n",
       "        vertical-align: top;\n",
       "    }\n",
       "\n",
       "    .dataframe thead th {\n",
       "        text-align: right;\n",
       "    }\n",
       "</style>\n",
       "<table border=\"1\" class=\"dataframe\">\n",
       "  <thead>\n",
       "    <tr style=\"text-align: right;\">\n",
       "      <th></th>\n",
       "      <th>REGION_ID</th>\n",
       "      <th>WEST</th>\n",
       "      <th>EAST</th>\n",
       "      <th>SOUTH</th>\n",
       "      <th>NORTH</th>\n",
       "    </tr>\n",
       "  </thead>\n",
       "  <tbody>\n",
       "    <tr>\n",
       "      <th>0</th>\n",
       "      <td>2</td>\n",
       "      <td>-87.846210</td>\n",
       "      <td>-87.747456</td>\n",
       "      <td>41.960669</td>\n",
       "      <td>42.019100</td>\n",
       "    </tr>\n",
       "    <tr>\n",
       "      <th>1</th>\n",
       "      <td>3</td>\n",
       "      <td>-87.747456</td>\n",
       "      <td>-87.674590</td>\n",
       "      <td>41.960669</td>\n",
       "      <td>41.997946</td>\n",
       "    </tr>\n",
       "    <tr>\n",
       "      <th>2</th>\n",
       "      <td>4</td>\n",
       "      <td>-87.674590</td>\n",
       "      <td>-87.646438</td>\n",
       "      <td>41.960669</td>\n",
       "      <td>41.997946</td>\n",
       "    </tr>\n",
       "    <tr>\n",
       "      <th>3</th>\n",
       "      <td>7</td>\n",
       "      <td>-87.747456</td>\n",
       "      <td>-87.674590</td>\n",
       "      <td>41.909269</td>\n",
       "      <td>41.931841</td>\n",
       "    </tr>\n",
       "    <tr>\n",
       "      <th>4</th>\n",
       "      <td>1</td>\n",
       "      <td>-87.709645</td>\n",
       "      <td>-87.654561</td>\n",
       "      <td>41.997946</td>\n",
       "      <td>42.026444</td>\n",
       "    </tr>\n",
       "  </tbody>\n",
       "</table>\n",
       "</div>"
      ],
      "text/plain": [
       "    REGION_ID       WEST       EAST      SOUTH      NORTH\n",
       "0           2 -87.846210 -87.747456  41.960669  42.019100\n",
       "1           3 -87.747456 -87.674590  41.960669  41.997946\n",
       "2           4 -87.674590 -87.646438  41.960669  41.997946\n",
       "3           7 -87.747456 -87.674590  41.909269  41.931841\n",
       "4           1 -87.709645 -87.654561  41.997946  42.026444"
      ]
     },
     "execution_count": 9,
     "metadata": {},
     "output_type": "execute_result"
    }
   ],
   "source": [
    "regions='C:/Users/emhar/Desktop/PythonStuff/Project/Chicago_Traffic_Tracker_-_Congestion_Estimates_by_Regions.csv'\n",
    "regions_df=pd.read_csv(regions)\n",
    "regions_df1=regions_df.loc[:,\" REGION_ID\":\" NORTH\"]\n",
    "regions_df1.head()"
   ]
  },
  {
   "cell_type": "code",
   "execution_count": 10,
   "metadata": {},
   "outputs": [
    {
     "data": {
      "image/png": "[encoded data removed]",
      "text/plain": [
       "<Figure size 432x288 with 1 Axes>"
      ]
     },
     "metadata": {},
     "output_type": "display_data"
    }
   ],
   "source": [
    "#Graph speeding information\n",
    "speed_limit=traffic_vehicles['EXCEED_SPEED_LIMIT_I'].value_counts()\n",
    "labels = [\"Yes\", \"No\"]\n",
    "plt.pie(speed_limit, labels=labels, autopct = \"%1.1f%%\")\n",
    "plt.title(\"Was the Driver Exceeding the Speed Limit?\")\n",
    "plt.savefig(\"SpeedLimit.png\", bbox_inches=\"tight\")"
   ]
  },
  {
   "cell_type": "code",
   "execution_count": 11,
   "metadata": {},
   "outputs": [
    {
     "data": {
      "image/png": "[encoded data removed]",
      "text/plain": [
       "<Figure size 1440x216 with 1 Axes>"
      ]
     },
     "metadata": {
      "needs_background": "light"
     },
     "output_type": "display_data"
    }
   ],
   "source": [
    "# separate and graph vehicle action before crash\n",
    "tvtv=traffic_vehicles['MANEUVER'].value_counts()\n",
    "maneuver_df= pd.DataFrame(tvtv)\n",
    "\n",
    "\n",
    "plt.figure(figsize=(20,3))\n",
    "maneuver_df=maneuver_df.reset_index(level=None, drop=False, inplace=False, col_level=0, col_fill='')\n",
    "maneuver_df\n",
    "\n",
    "x_axis = np.arange(len(maneuver_df['index']))\n",
    "tick_locations = [value for value in x_axis]\n",
    "plt.xticks(tick_locations, maneuver_df[\"index\"], rotation='vertical')\n",
    "plt.bar(x_axis, maneuver_df['MANEUVER'], color='r', alpha=0.5, align=\"center\")\n",
    "\n",
    "plt.xlabel(\"Car Maneuver\")\n",
    "plt.ylabel(\"Reported Incidents\")\n",
    "plt.title(\"Action of Vehicles Before a Crash\")\n",
    "plt.savefig(\"Maneuver.png\", bbox_inches=\"tight\")\n",
    "\n",
    "\n"
   ]
  },
  {
   "cell_type": "code",
   "execution_count": 12,
   "metadata": {},
   "outputs": [
    {
     "data": {
      "text/html": [
       "<div>\n",
       "<style scoped>\n",
       "    .dataframe tbody tr th:only-of-type {\n",
       "        vertical-align: middle;\n",
       "    }\n",
       "\n",
       "    .dataframe tbody tr th {\n",
       "        vertical-align: top;\n",
       "    }\n",
       "\n",
       "    .dataframe thead th {\n",
       "        text-align: right;\n",
       "    }\n",
       "</style>\n",
       "<table border=\"1\" class=\"dataframe\">\n",
       "  <thead>\n",
       "    <tr style=\"text-align: right;\">\n",
       "      <th></th>\n",
       "      <th>index</th>\n",
       "      <th>BAC_RESULT VALUE</th>\n",
       "    </tr>\n",
       "  </thead>\n",
       "  <tbody>\n",
       "    <tr>\n",
       "      <th>1</th>\n",
       "      <td>0.01</td>\n",
       "      <td>1</td>\n",
       "    </tr>\n",
       "    <tr>\n",
       "      <th>2</th>\n",
       "      <td>0.02</td>\n",
       "      <td>2</td>\n",
       "    </tr>\n",
       "    <tr>\n",
       "      <th>3</th>\n",
       "      <td>0.03</td>\n",
       "      <td>5</td>\n",
       "    </tr>\n",
       "    <tr>\n",
       "      <th>4</th>\n",
       "      <td>0.04</td>\n",
       "      <td>3</td>\n",
       "    </tr>\n",
       "    <tr>\n",
       "      <th>5</th>\n",
       "      <td>0.05</td>\n",
       "      <td>4</td>\n",
       "    </tr>\n",
       "  </tbody>\n",
       "</table>\n",
       "</div>"
      ],
      "text/plain": [
       "   index  BAC_RESULT VALUE\n",
       "1   0.01                 1\n",
       "2   0.02                 2\n",
       "3   0.03                 5\n",
       "4   0.04                 3\n",
       "5   0.05                 4"
      ]
     },
     "execution_count": 12,
     "metadata": {},
     "output_type": "execute_result"
    }
   ],
   "source": [
    "# Pull data for crashes by Blood Alcohol Concentration \n",
    "bac_people=traffic_people['BAC_RESULT VALUE'].value_counts()\n",
    "bac_df= pd.DataFrame(bac_people)\n",
    "\n",
    "bac_df1=bac_df.reset_index(level=None, drop=False, inplace=False)\n",
    "    \n",
    "bac_index1 = bac_df1.sort_values([\"index\"], ascending=True)\n",
    "\n",
    "bac_index2=bac_index1.reset_index(level=None, drop=False, inplace=False)\n",
    "\n",
    "bac_index2\n",
    "bac_index3=bac_index2.drop([bac_index2.index[0]])\n",
    "\n",
    "\n",
    "del bac_index3['level_0']\n",
    "bac_index3.head()\n",
    "\n"
   ]
  },
  {
   "cell_type": "code",
   "execution_count": 13,
   "metadata": {},
   "outputs": [],
   "source": [
    "#clean the data \n",
    "bac_index4=bac_index3.drop([bac_index3.index[47]])\n",
    "bac_index5=bac_index4.drop([bac_index4.index[46]])\n",
    "bac_index6=bac_index5.drop([bac_index5.index[45]])\n",
    "bac_index7=bac_index6.drop([bac_index6.index[44]])\n",
    "bac_index8=bac_index7.drop([bac_index6.index[43]])"
   ]
  },
  {
   "cell_type": "code",
   "execution_count": 14,
   "metadata": {},
   "outputs": [
    {
     "data": {
      "image/png": "[encoded data removed]",
      "text/plain": [
       "<Figure size 1296x216 with 1 Axes>"
      ]
     },
     "metadata": {
      "needs_background": "light"
     },
     "output_type": "display_data"
    }
   ],
   "source": [
    "#plot BAC data\n",
    "plt.figure(figsize=(18,3))                 \n",
    "x_axis = np.arange(len(bac_index8['index']))\n",
    "tick_locations = [value for value in x_axis]\n",
    "plt.bar(x_axis, bac_index8['BAC_RESULT VALUE'], color='r', alpha=0.5, align=\"center\")\n",
    "plt.xticks(tick_locations, bac_index8[\"index\"], rotation=\"horizontal\")\n",
    "plt.xlabel(\"Blood Alcohol Concentration (BAC)\")\n",
    "plt.ylabel(\"Reported Incidents\")\n",
    "plt.title(\"Car Crashes by Blood Alcohol Concentration (BAC)\")\n",
    "plt.savefig(\"BAC_bargraph\", bbox_inches=\"tight\")"
   ]
  },
  {
   "cell_type": "code",
   "execution_count": 42,
   "metadata": {},
   "outputs": [
    {
     "data": {
      "text/html": [
       "<div>\n",
       "<style scoped>\n",
       "    .dataframe tbody tr th:only-of-type {\n",
       "        vertical-align: middle;\n",
       "    }\n",
       "\n",
       "    .dataframe tbody tr th {\n",
       "        vertical-align: top;\n",
       "    }\n",
       "\n",
       "    .dataframe thead th {\n",
       "        text-align: right;\n",
       "    }\n",
       "</style>\n",
       "<table border=\"1\" class=\"dataframe\">\n",
       "  <thead>\n",
       "    <tr style=\"text-align: right;\">\n",
       "      <th></th>\n",
       "      <th>PERSON_TYPE</th>\n",
       "      <th>AGE</th>\n",
       "    </tr>\n",
       "  </thead>\n",
       "  <tbody>\n",
       "    <tr>\n",
       "      <th>2</th>\n",
       "      <td>DRIVER</td>\n",
       "      <td>31.0</td>\n",
       "    </tr>\n",
       "    <tr>\n",
       "      <th>3</th>\n",
       "      <td>DRIVER</td>\n",
       "      <td>29.0</td>\n",
       "    </tr>\n",
       "    <tr>\n",
       "      <th>5</th>\n",
       "      <td>DRIVER</td>\n",
       "      <td>63.0</td>\n",
       "    </tr>\n",
       "    <tr>\n",
       "      <th>6</th>\n",
       "      <td>DRIVER</td>\n",
       "      <td>20.0</td>\n",
       "    </tr>\n",
       "    <tr>\n",
       "      <th>7</th>\n",
       "      <td>DRIVER</td>\n",
       "      <td>18.0</td>\n",
       "    </tr>\n",
       "  </tbody>\n",
       "</table>\n",
       "</div>"
      ],
      "text/plain": [
       "  PERSON_TYPE   AGE\n",
       "2      DRIVER  31.0\n",
       "3      DRIVER  29.0\n",
       "5      DRIVER  63.0\n",
       "6      DRIVER  20.0\n",
       "7      DRIVER  18.0"
      ]
     },
     "execution_count": 42,
     "metadata": {},
     "output_type": "execute_result"
    }
   ],
   "source": [
    "#pull out age of drivers \n",
    "age_driver=traffic_people[['PERSON_TYPE','AGE']]\n",
    "ageage_df= pd.DataFrame(age_driver)\n",
    "ageage_df.dropna(how='any', inplace=True)  \n",
    "age_driver1=ageage_df.loc[ageage_df[\"PERSON_TYPE\"] == \"DRIVER\", :]\n",
    "age_driver1.head()\n"
   ]
  },
  {
   "cell_type": "code",
   "execution_count": 16,
   "metadata": {},
   "outputs": [],
   "source": [
    "#clean driver data\n",
    "traf2=age_driver1.sort_values([\"AGE\"], ascending=True)\n",
    "traf3=traf2['AGE'].value_counts()\n",
    "\n",
    "traf_age= pd.DataFrame(traf3)\n",
    "\n",
    "traf_age2=traf_age.reset_index(level=None, drop=False, inplace=False, col_level=0, col_fill='')\n",
    "traf_age3=traf_age2.sort_values([\"index\"], ascending=True)\n",
    "\n",
    "age_drive22=traf_age3.loc[traf_age3['index'] > 14, :]\n",
    "age_drive=age_drive22.loc[traf_age3['index'] < 102, :]"
   ]
  },
  {
   "cell_type": "code",
   "execution_count": 17,
   "metadata": {},
   "outputs": [
    {
     "data": {
      "image/png": "[encoded data removed]",
      "text/plain": [
       "<Figure size 1440x216 with 1 Axes>"
      ]
     },
     "metadata": {
      "needs_background": "light"
     },
     "output_type": "display_data"
    }
   ],
   "source": [
    "#plot age of driver \n",
    "plt.figure(figsize=(20,3))\n",
    "plt.bar(age_drive['index'], age_drive['AGE'], color='r', alpha=0.5, align=\"center\")\n",
    "plt.xticks(age_drive[\"index\"], rotation='vertical')\n",
    "plt.xlabel(\"Age\")\n",
    "plt.ylabel(\"Reported Incidents\")\n",
    "plt.title(\"Age of Driver\")\n",
    "plt.savefig(\"AGE.png\", bbox_inches=\"tight\")"
   ]
  },
  {
   "cell_type": "code",
   "execution_count": 18,
   "metadata": {},
   "outputs": [
    {
     "data": {
      "text/html": [
       "<div>\n",
       "<style scoped>\n",
       "    .dataframe tbody tr th:only-of-type {\n",
       "        vertical-align: middle;\n",
       "    }\n",
       "\n",
       "    .dataframe tbody tr th {\n",
       "        vertical-align: top;\n",
       "    }\n",
       "\n",
       "    .dataframe thead th {\n",
       "        text-align: right;\n",
       "    }\n",
       "</style>\n",
       "<table border=\"1\" class=\"dataframe\">\n",
       "  <thead>\n",
       "    <tr style=\"text-align: right;\">\n",
       "      <th></th>\n",
       "      <th>index</th>\n",
       "      <th>DRIVER_ACTION</th>\n",
       "    </tr>\n",
       "  </thead>\n",
       "  <tbody>\n",
       "    <tr>\n",
       "      <th>0</th>\n",
       "      <td>FAILED TO YIELD</td>\n",
       "      <td>48594</td>\n",
       "    </tr>\n",
       "    <tr>\n",
       "      <th>1</th>\n",
       "      <td>OTHER</td>\n",
       "      <td>40174</td>\n",
       "    </tr>\n",
       "    <tr>\n",
       "      <th>2</th>\n",
       "      <td>FOLLOWED TOO CLOSELY</td>\n",
       "      <td>34781</td>\n",
       "    </tr>\n",
       "    <tr>\n",
       "      <th>3</th>\n",
       "      <td>IMPROPER BACKING</td>\n",
       "      <td>16715</td>\n",
       "    </tr>\n",
       "    <tr>\n",
       "      <th>4</th>\n",
       "      <td>IMPROPER LANE CHANGE</td>\n",
       "      <td>14099</td>\n",
       "    </tr>\n",
       "    <tr>\n",
       "      <th>5</th>\n",
       "      <td>IMPROPER TURN</td>\n",
       "      <td>13272</td>\n",
       "    </tr>\n",
       "    <tr>\n",
       "      <th>6</th>\n",
       "      <td>IMPROPER PASSING</td>\n",
       "      <td>11197</td>\n",
       "    </tr>\n",
       "    <tr>\n",
       "      <th>7</th>\n",
       "      <td>TOO FAST FOR CONDITIONS</td>\n",
       "      <td>8327</td>\n",
       "    </tr>\n",
       "    <tr>\n",
       "      <th>8</th>\n",
       "      <td>DISREGARDED CONTROL DEVICES</td>\n",
       "      <td>7039</td>\n",
       "    </tr>\n",
       "    <tr>\n",
       "      <th>9</th>\n",
       "      <td>IMPROPER PARKING</td>\n",
       "      <td>1995</td>\n",
       "    </tr>\n",
       "    <tr>\n",
       "      <th>10</th>\n",
       "      <td>WRONG WAY/SIDE</td>\n",
       "      <td>1648</td>\n",
       "    </tr>\n",
       "    <tr>\n",
       "      <th>11</th>\n",
       "      <td>CELL PHONE USE OTHER THAN TEXTING</td>\n",
       "      <td>941</td>\n",
       "    </tr>\n",
       "    <tr>\n",
       "      <th>12</th>\n",
       "      <td>EVADING POLICE VEHICLE</td>\n",
       "      <td>825</td>\n",
       "    </tr>\n",
       "    <tr>\n",
       "      <th>13</th>\n",
       "      <td>EMERGENCY VEHICLE ON CALL</td>\n",
       "      <td>398</td>\n",
       "    </tr>\n",
       "    <tr>\n",
       "      <th>14</th>\n",
       "      <td>TEXTING</td>\n",
       "      <td>234</td>\n",
       "    </tr>\n",
       "    <tr>\n",
       "      <th>15</th>\n",
       "      <td>STOPPED SCHOOL BUS</td>\n",
       "      <td>68</td>\n",
       "    </tr>\n",
       "    <tr>\n",
       "      <th>16</th>\n",
       "      <td>LICENSE RESTRICTIONS</td>\n",
       "      <td>16</td>\n",
       "    </tr>\n",
       "  </tbody>\n",
       "</table>\n",
       "</div>"
      ],
      "text/plain": [
       "                                index  DRIVER_ACTION\n",
       "0                     FAILED TO YIELD          48594\n",
       "1                               OTHER          40174\n",
       "2                FOLLOWED TOO CLOSELY          34781\n",
       "3                    IMPROPER BACKING          16715\n",
       "4                IMPROPER LANE CHANGE          14099\n",
       "5                       IMPROPER TURN          13272\n",
       "6                    IMPROPER PASSING          11197\n",
       "7             TOO FAST FOR CONDITIONS           8327\n",
       "8         DISREGARDED CONTROL DEVICES           7039\n",
       "9                    IMPROPER PARKING           1995\n",
       "10                     WRONG WAY/SIDE           1648\n",
       "11  CELL PHONE USE OTHER THAN TEXTING            941\n",
       "12             EVADING POLICE VEHICLE            825\n",
       "13          EMERGENCY VEHICLE ON CALL            398\n",
       "14                            TEXTING            234\n",
       "15                 STOPPED SCHOOL BUS             68\n",
       "16               LICENSE RESTRICTIONS             16"
      ]
     },
     "execution_count": 18,
     "metadata": {},
     "output_type": "execute_result"
    }
   ],
   "source": [
    "#Examine driver action at time of crash\n",
    "trafffic_people=traffic_people['DRIVER_ACTION'].value_counts()\n",
    "trafffic_people\n",
    "traffic_people_df2= pd.DataFrame(trafffic_people)\n",
    "traffic_people_df = traffic_people_df2.drop([traffic_people_df2.index[0] , traffic_people_df2.index[1]])\n",
    "traffic_people_df2=traffic_people_df.reset_index(level=None, drop=False, inplace=False, col_level=0, col_fill='')\n",
    "traffic_people_df2"
   ]
  },
  {
   "cell_type": "code",
   "execution_count": 19,
   "metadata": {},
   "outputs": [
    {
     "data": {
      "image/png": "[encoded data removed]",
      "text/plain": [
       "<Figure size 720x216 with 1 Axes>"
      ]
     },
     "metadata": {
      "needs_background": "light"
     },
     "output_type": "display_data"
    }
   ],
   "source": [
    "#plot driver action at time of crash\n",
    "plt.figure(figsize=(10,3))\n",
    "x_axis = np.arange(len(traffic_people_df2['index']))\n",
    "tick_locations = [value for value in x_axis]\n",
    "plt.bar(x_axis, traffic_people_df2['DRIVER_ACTION'], color='r', alpha=0.5, align=\"center\")\n",
    "plt.xticks(tick_locations, traffic_people_df2[\"index\"], rotation=\"vertical\")\n",
    "plt.xlabel(\"Driver Action\")\n",
    "plt.ylabel(\"Reported Incidents\")\n",
    "plt.title(\"Driver Action at Time of Crash\")\n",
    "plt.savefig(\"Driver_Action.png\", bbox_inches=\"tight\")"
   ]
  },
  {
   "cell_type": "code",
   "execution_count": 20,
   "metadata": {},
   "outputs": [],
   "source": [
    "# Examine and graph Primary cause of crash data\n",
    "primary_cause=pd.DataFrame(traffic_crashes['PRIM_CONTRIBUTORY_CAUSE'].value_counts())\n",
    "primary_cause=primary_cause.drop([primary_cause.index[0]])"
   ]
  },
  {
   "cell_type": "code",
   "execution_count": 21,
   "metadata": {},
   "outputs": [
    {
     "data": {
      "image/png": "[encoded data removed]",
      "text/plain": [
       "<Figure size 2160x504 with 1 Axes>"
      ]
     },
     "metadata": {
      "needs_background": "light"
     },
     "output_type": "display_data"
    }
   ],
   "source": [
    "plt.figure(figsize=(30,7))\n",
    "plt.ylabel(\"Primary Cause\")\n",
    "plt.xlabel(\"Reported Incidents\")\n",
    "plt.title(\"Primary Cause of Car Crash\")\n",
    "\n",
    "primary_cause3=primary_cause.reset_index(level=None, drop=False, inplace=False, col_level=0, col_fill='')\n",
    "primary_cause2=primary_cause3.sort_values([\"PRIM_CONTRIBUTORY_CAUSE\"], ascending=False)\n",
    "\n",
    "x_axis = np.arange(len(primary_cause2['index']))\n",
    "tick_locations = [value for value in x_axis]\n",
    "plt.bar(x_axis, primary_cause2['PRIM_CONTRIBUTORY_CAUSE'], color='r', alpha=0.5, align=\"center\")\n",
    "plt.xticks(tick_locations, primary_cause2[\"index\"], rotation=\"vertical\")\n",
    "\n",
    "plt.savefig(\"primary_cause.png\", bbox_inches=\"tight\")\n",
    "\n"
   ]
  },
  {
   "cell_type": "code",
   "execution_count": 22,
   "metadata": {},
   "outputs": [
    {
     "data": {
      "image/png": "[encoded data removed]",
      "text/plain": [
       "<Figure size 1440x216 with 1 Axes>"
      ]
     },
     "metadata": {
      "needs_background": "light"
     },
     "output_type": "display_data"
    }
   ],
   "source": [
    "# examine and map crashes by time of day \n",
    "time = traffic_crashes[\"CRASH_HOUR\"].value_counts()\n",
    "time_df= pd.DataFrame(time)\n",
    "time_df\n",
    "\n",
    "plt.figure(figsize=(20,3))\n",
    "plt.xlabel(\"Hour\")\n",
    "plt.ylabel(\"Reported Incidents\")\n",
    "plt.title(\"Car Crashes by Time of Day\")\n",
    "time_df2=time_df.reset_index(level=None, drop=False, inplace=False, col_level=0, col_fill='')\n",
    "time_df3=time_df2.sort_values([\"index\"], ascending=True)\n",
    "x_axis = np.arange(len(time_df3['index']))\n",
    "tick_locations = [value for value in x_axis]\n",
    "plt.plot(x_axis, time_df3['CRASH_HOUR'], color='r')\n",
    "plt.xticks(tick_locations, time_df3[\"index\"], rotation=\"vertical\")\n",
    "plt.savefig(\"time.png\", bbox_inches=\"tight\")"
   ]
  },
  {
   "cell_type": "code",
   "execution_count": 23,
   "metadata": {},
   "outputs": [
    {
     "data": {
      "text/plain": [
       "count    279796.000000\n",
       "mean         28.166189\n",
       "std           6.900005\n",
       "min           0.000000\n",
       "25%          30.000000\n",
       "50%          30.000000\n",
       "75%          30.000000\n",
       "max          99.000000\n",
       "Name: POSTED_SPEED_LIMIT, dtype: float64"
      ]
     },
     "execution_count": 23,
     "metadata": {},
     "output_type": "execute_result"
    }
   ],
   "source": [
    "# find mean posted speed limit \n",
    "mean_speed=traffic_crashes['POSTED_SPEED_LIMIT'].describe()\n",
    "mean_speed"
   ]
  },
  {
   "cell_type": "code",
   "execution_count": 24,
   "metadata": {},
   "outputs": [],
   "source": [
    "\n",
    "#Split column for crashdate on date\n",
    "speed_violations[\"Year\"] = pd.DatetimeIndex(speed_violations[\"VIOLATION DATE\"]).year\n"
   ]
  },
  {
   "cell_type": "code",
   "execution_count": 25,
   "metadata": {},
   "outputs": [],
   "source": [
    "#drop 2014 data \n",
    "indexNames = speed_violations[ speed_violations['Year'] == 2014 ].index\n",
    " \n",
    "# Delete these row indexes from dataFrame\n",
    "speed_violations.drop(indexNames , inplace=True)"
   ]
  },
  {
   "cell_type": "code",
   "execution_count": 26,
   "metadata": {},
   "outputs": [
    {
     "data": {
      "text/plain": [
       "Year\n",
       "2015    37872\n",
       "2016    38998\n",
       "2017    38346\n",
       "2018    39234\n",
       "2019     7634\n",
       "Name: VIOLATIONS, dtype: int64"
      ]
     },
     "execution_count": 26,
     "metadata": {},
     "output_type": "execute_result"
    }
   ],
   "source": [
    "yearlyspeed = speed_violations.groupby([\"Year\"])\n",
    "yearlyspeed['VIOLATIONS'].count()"
   ]
  },
  {
   "cell_type": "code",
   "execution_count": 27,
   "metadata": {},
   "outputs": [],
   "source": [
    "#Split column for crashdate on date\n",
    "red_violations[\"Year\"] = pd.DatetimeIndex(red_violations[\"VIOLATION DATE\"]).year\n"
   ]
  },
  {
   "cell_type": "code",
   "execution_count": 28,
   "metadata": {},
   "outputs": [],
   "source": [
    "# drop 2014 data\n",
    "indexNames = red_violations[ red_violations['Year'] == 2014 ].index\n",
    " \n",
    "red_violations.drop(indexNames , inplace=True)\n",
    "\n",
    "yearlyred = red_violations.groupby([\"Year\"])\n",
    "count_red=yearlyred['VIOLATIONS'].count()\n",
    "#count_red"
   ]
  },
  {
   "cell_type": "code",
   "execution_count": 29,
   "metadata": {},
   "outputs": [
    {
     "data": {
      "text/html": [
       "<div>\n",
       "<style scoped>\n",
       "    .dataframe tbody tr th:only-of-type {\n",
       "        vertical-align: middle;\n",
       "    }\n",
       "\n",
       "    .dataframe tbody tr th {\n",
       "        vertical-align: top;\n",
       "    }\n",
       "\n",
       "    .dataframe thead th {\n",
       "        text-align: right;\n",
       "    }\n",
       "</style>\n",
       "<table border=\"1\" class=\"dataframe\">\n",
       "  <thead>\n",
       "    <tr style=\"text-align: right;\">\n",
       "      <th></th>\n",
       "      <th>LATITUDE</th>\n",
       "      <th>LONGITUDE</th>\n",
       "      <th>VIOLATIONS</th>\n",
       "      <th>Region ID</th>\n",
       "    </tr>\n",
       "  </thead>\n",
       "  <tbody>\n",
       "    <tr>\n",
       "      <th>0</th>\n",
       "      <td>41.663174</td>\n",
       "      <td>-87.633520</td>\n",
       "      <td>217833</td>\n",
       "      <td></td>\n",
       "    </tr>\n",
       "    <tr>\n",
       "      <th>1</th>\n",
       "      <td>41.690702</td>\n",
       "      <td>-87.664122</td>\n",
       "      <td>7633</td>\n",
       "      <td></td>\n",
       "    </tr>\n",
       "    <tr>\n",
       "      <th>2</th>\n",
       "      <td>41.691025</td>\n",
       "      <td>-87.664248</td>\n",
       "      <td>16771</td>\n",
       "      <td></td>\n",
       "    </tr>\n",
       "    <tr>\n",
       "      <th>3</th>\n",
       "      <td>41.691202</td>\n",
       "      <td>-87.717211</td>\n",
       "      <td>13083</td>\n",
       "      <td></td>\n",
       "    </tr>\n",
       "    <tr>\n",
       "      <th>4</th>\n",
       "      <td>41.706268</td>\n",
       "      <td>-87.682391</td>\n",
       "      <td>2539</td>\n",
       "      <td></td>\n",
       "    </tr>\n",
       "  </tbody>\n",
       "</table>\n",
       "</div>"
      ],
      "text/plain": [
       "    LATITUDE  LONGITUDE  VIOLATIONS Region ID\n",
       "0  41.663174 -87.633520      217833          \n",
       "1  41.690702 -87.664122        7633          \n",
       "2  41.691025 -87.664248       16771          \n",
       "3  41.691202 -87.717211       13083          \n",
       "4  41.706268 -87.682391        2539          "
      ]
     },
     "execution_count": 29,
     "metadata": {},
     "output_type": "execute_result"
    }
   ],
   "source": [
    "# speed violations by location\n",
    "grouped_SPEED = speed_violations.groupby(['LATITUDE', 'LONGITUDE'])\n",
    "SPEED = grouped_SPEED['VIOLATIONS'].sum()\n",
    "speed_v_df= pd.DataFrame(SPEED)\n",
    "speed_df=speed_v_df.reset_index(level=None, drop=False, inplace=False, col_level=0, col_fill='')\n",
    "speed_df[\"Region ID\"] = \"\"\n",
    "speed_df.head()\n",
    "\n"
   ]
  },
  {
   "cell_type": "code",
   "execution_count": 30,
   "metadata": {},
   "outputs": [
    {
     "data": {
      "text/html": [
       "<div>\n",
       "<style scoped>\n",
       "    .dataframe tbody tr th:only-of-type {\n",
       "        vertical-align: middle;\n",
       "    }\n",
       "\n",
       "    .dataframe tbody tr th {\n",
       "        vertical-align: top;\n",
       "    }\n",
       "\n",
       "    .dataframe thead th {\n",
       "        text-align: right;\n",
       "    }\n",
       "</style>\n",
       "<table border=\"1\" class=\"dataframe\">\n",
       "  <thead>\n",
       "    <tr style=\"text-align: right;\">\n",
       "      <th></th>\n",
       "      <th>LATITUDE</th>\n",
       "      <th>LONGITUDE</th>\n",
       "      <th>VIOLATIONS</th>\n",
       "      <th>Region ID</th>\n",
       "    </tr>\n",
       "  </thead>\n",
       "  <tbody>\n",
       "    <tr>\n",
       "      <th>0</th>\n",
       "      <td>41.677721</td>\n",
       "      <td>-87.642052</td>\n",
       "      <td>9335</td>\n",
       "      <td></td>\n",
       "    </tr>\n",
       "    <tr>\n",
       "      <th>1</th>\n",
       "      <td>41.677923</td>\n",
       "      <td>-87.641990</td>\n",
       "      <td>4032</td>\n",
       "      <td></td>\n",
       "    </tr>\n",
       "    <tr>\n",
       "      <th>2</th>\n",
       "      <td>41.685190</td>\n",
       "      <td>-87.642280</td>\n",
       "      <td>3130</td>\n",
       "      <td></td>\n",
       "    </tr>\n",
       "    <tr>\n",
       "      <th>3</th>\n",
       "      <td>41.692161</td>\n",
       "      <td>-87.663472</td>\n",
       "      <td>366</td>\n",
       "      <td></td>\n",
       "    </tr>\n",
       "    <tr>\n",
       "      <th>4</th>\n",
       "      <td>41.692263</td>\n",
       "      <td>-87.642523</td>\n",
       "      <td>11760</td>\n",
       "      <td></td>\n",
       "    </tr>\n",
       "  </tbody>\n",
       "</table>\n",
       "</div>"
      ],
      "text/plain": [
       "    LATITUDE  LONGITUDE  VIOLATIONS Region ID\n",
       "0  41.677721 -87.642052        9335          \n",
       "1  41.677923 -87.641990        4032          \n",
       "2  41.685190 -87.642280        3130          \n",
       "3  41.692161 -87.663472         366          \n",
       "4  41.692263 -87.642523       11760          "
      ]
     },
     "execution_count": 30,
     "metadata": {},
     "output_type": "execute_result"
    }
   ],
   "source": [
    "# red light violations by location\n",
    "grouped_RED = red_violations.groupby(['LATITUDE', 'LONGITUDE'])\n",
    "RED = grouped_RED['VIOLATIONS'].sum()\n",
    "red_v_df= pd.DataFrame(RED)\n",
    "red_df=red_v_df.reset_index(level=None, drop=False, inplace=False, col_level=0, col_fill='')\n",
    "red_df[\"Region ID\"] = \"\"\n",
    "red_df.head()"
   ]
  },
  {
   "cell_type": "code",
   "execution_count": 31,
   "metadata": {},
   "outputs": [
    {
     "name": "stderr",
     "output_type": "stream",
     "text": [
      "C:\\Users\\emhar\\Anaconda3\\envs\\pleasework\\lib\\site-packages\\ipykernel_launcher.py:5: SettingWithCopyWarning: \n",
      "A value is trying to be set on a copy of a slice from a DataFrame\n",
      "\n",
      "See the caveats in the documentation: http://pandas.pydata.org/pandas-docs/stable/indexing.html#indexing-view-versus-copy\n",
      "  \"\"\"\n"
     ]
    }
   ],
   "source": [
    "# assign region ids to red light violations\n",
    "for index, row in red_df.iterrows():\n",
    "    for index2, row2 in regions_df1.iterrows():\n",
    "        if ((red_df[\"LATITUDE\"][index] < regions_df1[\" NORTH\"][index2]) & (red_df[\"LATITUDE\"][index] > regions_df1[\" SOUTH\"][index2]) & (red_df[\"LONGITUDE\"][index] > regions_df1[\" WEST\"][index2]) & (red_df[\"LONGITUDE\"][index] < regions_df1[\" EAST\"][index2])):\n",
    "            red_df[\"Region ID\"][index] = regions_df1[\" REGION_ID\"][index2]"
   ]
  },
  {
   "cell_type": "code",
   "execution_count": 32,
   "metadata": {},
   "outputs": [
    {
     "data": {
      "text/html": [
       "<div>\n",
       "<style scoped>\n",
       "    .dataframe tbody tr th:only-of-type {\n",
       "        vertical-align: middle;\n",
       "    }\n",
       "\n",
       "    .dataframe tbody tr th {\n",
       "        vertical-align: top;\n",
       "    }\n",
       "\n",
       "    .dataframe thead th {\n",
       "        text-align: right;\n",
       "    }\n",
       "</style>\n",
       "<table border=\"1\" class=\"dataframe\">\n",
       "  <thead>\n",
       "    <tr style=\"text-align: right;\">\n",
       "      <th></th>\n",
       "      <th>LATITUDE</th>\n",
       "      <th>LONGITUDE</th>\n",
       "      <th>VIOLATIONS</th>\n",
       "      <th>Region ID</th>\n",
       "    </tr>\n",
       "  </thead>\n",
       "  <tbody>\n",
       "    <tr>\n",
       "      <th>0</th>\n",
       "      <td>41.677721</td>\n",
       "      <td>-87.642052</td>\n",
       "      <td>9335</td>\n",
       "      <td>26</td>\n",
       "    </tr>\n",
       "    <tr>\n",
       "      <th>1</th>\n",
       "      <td>41.677923</td>\n",
       "      <td>-87.641990</td>\n",
       "      <td>4032</td>\n",
       "      <td>26</td>\n",
       "    </tr>\n",
       "    <tr>\n",
       "      <th>2</th>\n",
       "      <td>41.685190</td>\n",
       "      <td>-87.642280</td>\n",
       "      <td>3130</td>\n",
       "      <td>26</td>\n",
       "    </tr>\n",
       "    <tr>\n",
       "      <th>3</th>\n",
       "      <td>41.692161</td>\n",
       "      <td>-87.663472</td>\n",
       "      <td>366</td>\n",
       "      <td>25</td>\n",
       "    </tr>\n",
       "    <tr>\n",
       "      <th>4</th>\n",
       "      <td>41.692263</td>\n",
       "      <td>-87.642523</td>\n",
       "      <td>11760</td>\n",
       "      <td>26</td>\n",
       "    </tr>\n",
       "  </tbody>\n",
       "</table>\n",
       "</div>"
      ],
      "text/plain": [
       "    LATITUDE  LONGITUDE  VIOLATIONS Region ID\n",
       "0  41.677721 -87.642052        9335        26\n",
       "1  41.677923 -87.641990        4032        26\n",
       "2  41.685190 -87.642280        3130        26\n",
       "3  41.692161 -87.663472         366        25\n",
       "4  41.692263 -87.642523       11760        26"
      ]
     },
     "execution_count": 32,
     "metadata": {},
     "output_type": "execute_result"
    }
   ],
   "source": [
    "red_df.head()"
   ]
  },
  {
   "cell_type": "code",
   "execution_count": 33,
   "metadata": {},
   "outputs": [
    {
     "data": {
      "text/html": [
       "<div>\n",
       "<style scoped>\n",
       "    .dataframe tbody tr th:only-of-type {\n",
       "        vertical-align: middle;\n",
       "    }\n",
       "\n",
       "    .dataframe tbody tr th {\n",
       "        vertical-align: top;\n",
       "    }\n",
       "\n",
       "    .dataframe thead th {\n",
       "        text-align: right;\n",
       "    }\n",
       "</style>\n",
       "<table border=\"1\" class=\"dataframe\">\n",
       "  <thead>\n",
       "    <tr style=\"text-align: right;\">\n",
       "      <th></th>\n",
       "      <th>Region ID</th>\n",
       "      <th>Red Light Violations</th>\n",
       "    </tr>\n",
       "  </thead>\n",
       "  <tbody>\n",
       "    <tr>\n",
       "      <th>0</th>\n",
       "      <td>1</td>\n",
       "      <td>20757</td>\n",
       "    </tr>\n",
       "    <tr>\n",
       "      <th>1</th>\n",
       "      <td>2</td>\n",
       "      <td>58419</td>\n",
       "    </tr>\n",
       "    <tr>\n",
       "      <th>2</th>\n",
       "      <td>3</td>\n",
       "      <td>102160</td>\n",
       "    </tr>\n",
       "    <tr>\n",
       "      <th>3</th>\n",
       "      <td>4</td>\n",
       "      <td>71024</td>\n",
       "    </tr>\n",
       "    <tr>\n",
       "      <th>4</th>\n",
       "      <td>5</td>\n",
       "      <td>104053</td>\n",
       "    </tr>\n",
       "  </tbody>\n",
       "</table>\n",
       "</div>"
      ],
      "text/plain": [
       "   Region ID  Red Light Violations\n",
       "0          1                 20757\n",
       "1          2                 58419\n",
       "2          3                102160\n",
       "3          4                 71024\n",
       "4          5                104053"
      ]
     },
     "execution_count": 33,
     "metadata": {},
     "output_type": "execute_result"
    }
   ],
   "source": [
    "#find red light violations by region\n",
    "grouped_redregion= red_df.groupby(['Region ID'])\n",
    "grouped_redregion2=grouped_redregion['VIOLATIONS'].sum()\n",
    "grouped_redregion2\n",
    "red_violation_region= pd.DataFrame(grouped_redregion2)\n",
    "red_viol_region=red_violation_region.reset_index(level=None, drop=False, inplace=False, col_level=0, col_fill='')\n",
    "red_viol_region.rename(columns={'VIOLATIONS': 'Red Light Violations'}, inplace=True)\n",
    "red_viol_region.head()"
   ]
  },
  {
   "cell_type": "code",
   "execution_count": 34,
   "metadata": {},
   "outputs": [
    {
     "name": "stderr",
     "output_type": "stream",
     "text": [
      "C:\\Users\\emhar\\Anaconda3\\envs\\pleasework\\lib\\site-packages\\ipykernel_launcher.py:5: SettingWithCopyWarning: \n",
      "A value is trying to be set on a copy of a slice from a DataFrame\n",
      "\n",
      "See the caveats in the documentation: http://pandas.pydata.org/pandas-docs/stable/indexing.html#indexing-view-versus-copy\n",
      "  \"\"\"\n"
     ]
    }
   ],
   "source": [
    "#assign region ids for speed violations\n",
    "for index, row in speed_df.iterrows():\n",
    "    for index2, row2 in regions_df1.iterrows():\n",
    "        if ((speed_df[\"LATITUDE\"][index] < regions_df1[\" NORTH\"][index2]) & (speed_df[\"LATITUDE\"][index] > regions_df1[\" SOUTH\"][index2]) & (speed_df[\"LONGITUDE\"][index] > regions_df1[\" WEST\"][index2]) & (speed_df[\"LONGITUDE\"][index] < regions_df1[\" EAST\"][index2])):\n",
    "            speed_df[\"Region ID\"][index] = regions_df1[\" REGION_ID\"][index2]"
   ]
  },
  {
   "cell_type": "code",
   "execution_count": 35,
   "metadata": {},
   "outputs": [
    {
     "data": {
      "text/html": [
       "<div>\n",
       "<style scoped>\n",
       "    .dataframe tbody tr th:only-of-type {\n",
       "        vertical-align: middle;\n",
       "    }\n",
       "\n",
       "    .dataframe tbody tr th {\n",
       "        vertical-align: top;\n",
       "    }\n",
       "\n",
       "    .dataframe thead th {\n",
       "        text-align: right;\n",
       "    }\n",
       "</style>\n",
       "<table border=\"1\" class=\"dataframe\">\n",
       "  <thead>\n",
       "    <tr style=\"text-align: right;\">\n",
       "      <th></th>\n",
       "      <th>LATITUDE</th>\n",
       "      <th>LONGITUDE</th>\n",
       "      <th>VIOLATIONS</th>\n",
       "      <th>Region ID</th>\n",
       "    </tr>\n",
       "  </thead>\n",
       "  <tbody>\n",
       "    <tr>\n",
       "      <th>0</th>\n",
       "      <td>41.663174</td>\n",
       "      <td>-87.633520</td>\n",
       "      <td>217833</td>\n",
       "      <td>28</td>\n",
       "    </tr>\n",
       "    <tr>\n",
       "      <th>1</th>\n",
       "      <td>41.690702</td>\n",
       "      <td>-87.664122</td>\n",
       "      <td>7633</td>\n",
       "      <td>25</td>\n",
       "    </tr>\n",
       "    <tr>\n",
       "      <th>2</th>\n",
       "      <td>41.691025</td>\n",
       "      <td>-87.664248</td>\n",
       "      <td>16771</td>\n",
       "      <td>25</td>\n",
       "    </tr>\n",
       "    <tr>\n",
       "      <th>3</th>\n",
       "      <td>41.691202</td>\n",
       "      <td>-87.717211</td>\n",
       "      <td>13083</td>\n",
       "      <td>25</td>\n",
       "    </tr>\n",
       "    <tr>\n",
       "      <th>4</th>\n",
       "      <td>41.706268</td>\n",
       "      <td>-87.682391</td>\n",
       "      <td>2539</td>\n",
       "      <td>25</td>\n",
       "    </tr>\n",
       "  </tbody>\n",
       "</table>\n",
       "</div>"
      ],
      "text/plain": [
       "    LATITUDE  LONGITUDE  VIOLATIONS Region ID\n",
       "0  41.663174 -87.633520      217833        28\n",
       "1  41.690702 -87.664122        7633        25\n",
       "2  41.691025 -87.664248       16771        25\n",
       "3  41.691202 -87.717211       13083        25\n",
       "4  41.706268 -87.682391        2539        25"
      ]
     },
     "execution_count": 35,
     "metadata": {},
     "output_type": "execute_result"
    }
   ],
   "source": [
    "speed_df.head()"
   ]
  },
  {
   "cell_type": "code",
   "execution_count": 36,
   "metadata": {},
   "outputs": [
    {
     "data": {
      "text/html": [
       "<div>\n",
       "<style scoped>\n",
       "    .dataframe tbody tr th:only-of-type {\n",
       "        vertical-align: middle;\n",
       "    }\n",
       "\n",
       "    .dataframe tbody tr th {\n",
       "        vertical-align: top;\n",
       "    }\n",
       "\n",
       "    .dataframe thead th {\n",
       "        text-align: right;\n",
       "    }\n",
       "</style>\n",
       "<table border=\"1\" class=\"dataframe\">\n",
       "  <thead>\n",
       "    <tr style=\"text-align: right;\">\n",
       "      <th></th>\n",
       "      <th>Region ID</th>\n",
       "      <th>Speed Violations</th>\n",
       "    </tr>\n",
       "  </thead>\n",
       "  <tbody>\n",
       "    <tr>\n",
       "      <th>0</th>\n",
       "      <td>1</td>\n",
       "      <td>51566</td>\n",
       "    </tr>\n",
       "    <tr>\n",
       "      <th>1</th>\n",
       "      <td>2</td>\n",
       "      <td>482448</td>\n",
       "    </tr>\n",
       "    <tr>\n",
       "      <th>2</th>\n",
       "      <td>3</td>\n",
       "      <td>386615</td>\n",
       "    </tr>\n",
       "    <tr>\n",
       "      <th>3</th>\n",
       "      <td>4</td>\n",
       "      <td>45575</td>\n",
       "    </tr>\n",
       "    <tr>\n",
       "      <th>4</th>\n",
       "      <td>5</td>\n",
       "      <td>259298</td>\n",
       "    </tr>\n",
       "  </tbody>\n",
       "</table>\n",
       "</div>"
      ],
      "text/plain": [
       "   Region ID  Speed Violations\n",
       "0          1             51566\n",
       "1          2            482448\n",
       "2          3            386615\n",
       "3          4             45575\n",
       "4          5            259298"
      ]
     },
     "execution_count": 36,
     "metadata": {},
     "output_type": "execute_result"
    }
   ],
   "source": [
    "#find speed violations by region\n",
    "grouped_speedregion= speed_df.groupby(['Region ID'])\n",
    "grouped_speedregion2=grouped_speedregion['VIOLATIONS'].sum()\n",
    "speed_violation_region= pd.DataFrame(grouped_speedregion2)\n",
    "speed_viol_region=speed_violation_region.reset_index(level=None, drop=False, inplace=False, col_level=0, col_fill='')\n",
    "speed_viol_region.rename(columns={'VIOLATIONS': 'Speed Violations'}, inplace=True)\n",
    "speed_viol_region.head()"
   ]
  },
  {
   "cell_type": "code",
   "execution_count": 37,
   "metadata": {},
   "outputs": [
    {
     "data": {
      "text/html": [
       "<div>\n",
       "<style scoped>\n",
       "    .dataframe tbody tr th:only-of-type {\n",
       "        vertical-align: middle;\n",
       "    }\n",
       "\n",
       "    .dataframe tbody tr th {\n",
       "        vertical-align: top;\n",
       "    }\n",
       "\n",
       "    .dataframe thead th {\n",
       "        text-align: right;\n",
       "    }\n",
       "</style>\n",
       "<table border=\"1\" class=\"dataframe\">\n",
       "  <thead>\n",
       "    <tr style=\"text-align: right;\">\n",
       "      <th></th>\n",
       "      <th>index</th>\n",
       "      <th>Region ID</th>\n",
       "      <th>Speed Violations</th>\n",
       "      <th>Red Light Violations</th>\n",
       "    </tr>\n",
       "  </thead>\n",
       "  <tbody>\n",
       "    <tr>\n",
       "      <th>0</th>\n",
       "      <td>0</td>\n",
       "      <td>1</td>\n",
       "      <td>51566.0</td>\n",
       "      <td>20757.0</td>\n",
       "    </tr>\n",
       "    <tr>\n",
       "      <th>1</th>\n",
       "      <td>1</td>\n",
       "      <td>2</td>\n",
       "      <td>482448.0</td>\n",
       "      <td>58419.0</td>\n",
       "    </tr>\n",
       "    <tr>\n",
       "      <th>2</th>\n",
       "      <td>2</td>\n",
       "      <td>3</td>\n",
       "      <td>386615.0</td>\n",
       "      <td>102160.0</td>\n",
       "    </tr>\n",
       "    <tr>\n",
       "      <th>3</th>\n",
       "      <td>3</td>\n",
       "      <td>4</td>\n",
       "      <td>45575.0</td>\n",
       "      <td>71024.0</td>\n",
       "    </tr>\n",
       "    <tr>\n",
       "      <th>4</th>\n",
       "      <td>4</td>\n",
       "      <td>5</td>\n",
       "      <td>259298.0</td>\n",
       "      <td>104053.0</td>\n",
       "    </tr>\n",
       "  </tbody>\n",
       "</table>\n",
       "</div>"
      ],
      "text/plain": [
       "   index  Region ID  Speed Violations  Red Light Violations\n",
       "0      0          1           51566.0               20757.0\n",
       "1      1          2          482448.0               58419.0\n",
       "2      2          3          386615.0              102160.0\n",
       "3      3          4           45575.0               71024.0\n",
       "4      4          5          259298.0              104053.0"
      ]
     },
     "execution_count": 37,
     "metadata": {},
     "output_type": "execute_result"
    }
   ],
   "source": [
    "#merge violations data by region id dataframes\n",
    "viol_all2= pd.merge(speed_viol_region, red_viol_region, on=\"Region ID\", how=\"outer\")\n",
    "viol_all = viol_all2.sort_values([\"Region ID\"], ascending=True)\n",
    "violations=viol_all.reset_index(level=None, drop=False, inplace=False, col_level=0, col_fill='')\n",
    "violations.head()"
   ]
  },
  {
   "cell_type": "code",
   "execution_count": 38,
   "metadata": {},
   "outputs": [
    {
     "data": {
      "image/png": "[encoded data removed]",
      "text/plain": [
       "<Figure size 720x360 with 1 Axes>"
      ]
     },
     "metadata": {
      "needs_background": "light"
     },
     "output_type": "display_data"
    }
   ],
   "source": [
    "#map speed violations by region id \n",
    "plt.figure(figsize=(10,5))\n",
    "x_axis = np.arange(len(violations['Region ID']))\n",
    "tick_locations = [value for value in x_axis]\n",
    "plt.bar(x_axis, violations['Speed Violations'], color='r', alpha=0.5, align=\"center\")\n",
    "plt.xticks(tick_locations, violations[\"Region ID\"])\n",
    "plt.xlim(-2,29)\n",
    "plt.xlabel(\"Region ID\")\n",
    "plt.ylabel(\"Speed Violations\")\n",
    "plt.title(\"Speed Violations by Region ID\")\n",
    "plt.savefig(\"SpeedVio.png\", bbox_inches=\"tight\")"
   ]
  },
  {
   "cell_type": "code",
   "execution_count": 39,
   "metadata": {},
   "outputs": [
    {
     "data": {
      "image/png": "[encoded data removed]",
      "text/plain": [
       "<Figure size 720x360 with 1 Axes>"
      ]
     },
     "metadata": {
      "needs_background": "light"
     },
     "output_type": "display_data"
    }
   ],
   "source": [
    "#plot red light violations by region id and scale to match speed violations\n",
    "plt.figure(figsize=(10,5))\n",
    "x_axis = np.arange(len(violations['Region ID']))\n",
    "tick_locations = [value for value in x_axis]\n",
    "plt.bar(x_axis, violations['Red Light Violations'], color='r', alpha=0.5, align=\"center\")\n",
    "plt.xticks(tick_locations, violations[\"Region ID\"])\n",
    "plt.xlabel(\"Region ID\")\n",
    "plt.ylabel(\"Red Light Violations\")\n",
    "plt.ylim(0,500000)\n",
    "plt.title(\"Red Light Violations by Region ID\")\n",
    "plt.savefig(\"RedLVio.png\", bbox_inches=\"tight\")"
   ]
  },
  {
   "cell_type": "code",
   "execution_count": 43,
   "metadata": {},
   "outputs": [],
   "source": [
    "# merge vehicle, crash, and people data on police report number \n",
    "merge_table = pd.merge(traffic_vehicles, traffic_crashes, on=\"RD_NO\", how=\"outer\")\n"
   ]
  },
  {
   "cell_type": "code",
   "execution_count": 45,
   "metadata": {},
   "outputs": [
    {
     "data": {
      "text/html": [
       "<div>\n",
       "<style scoped>\n",
       "    .dataframe tbody tr th:only-of-type {\n",
       "        vertical-align: middle;\n",
       "    }\n",
       "\n",
       "    .dataframe tbody tr th {\n",
       "        vertical-align: top;\n",
       "    }\n",
       "\n",
       "    .dataframe thead th {\n",
       "        text-align: right;\n",
       "    }\n",
       "</style>\n",
       "<table border=\"1\" class=\"dataframe\">\n",
       "  <thead>\n",
       "    <tr style=\"text-align: right;\">\n",
       "      <th></th>\n",
       "      <th>PERSON_ID</th>\n",
       "      <th>PERSON_TYPE</th>\n",
       "      <th>RD_NO</th>\n",
       "      <th>VEHICLE_ID_x</th>\n",
       "      <th>CRASH_DATE</th>\n",
       "      <th>SEAT_NO</th>\n",
       "      <th>CITY</th>\n",
       "      <th>STATE</th>\n",
       "      <th>ZIPCODE</th>\n",
       "      <th>SEX</th>\n",
       "      <th>...</th>\n",
       "      <th>INJURIES_NON_INCAPACITATING</th>\n",
       "      <th>INJURIES_REPORTED_NOT_EVIDENT</th>\n",
       "      <th>INJURIES_NO_INDICATION</th>\n",
       "      <th>INJURIES_UNKNOWN</th>\n",
       "      <th>CRASH_HOUR</th>\n",
       "      <th>CRASH_DAY_OF_WEEK</th>\n",
       "      <th>CRASH_MONTH</th>\n",
       "      <th>LATITUDE</th>\n",
       "      <th>LONGITUDE</th>\n",
       "      <th>LOCATION</th>\n",
       "    </tr>\n",
       "  </thead>\n",
       "  <tbody>\n",
       "    <tr>\n",
       "      <th>0</th>\n",
       "      <td>O10</td>\n",
       "      <td>DRIVER</td>\n",
       "      <td>HY368708</td>\n",
       "      <td>10.0</td>\n",
       "      <td>08/04/2015 12:40:00 PM</td>\n",
       "      <td>NaN</td>\n",
       "      <td>CHICAGO</td>\n",
       "      <td>IL</td>\n",
       "      <td>60641</td>\n",
       "      <td>M</td>\n",
       "      <td>...</td>\n",
       "      <td>0.0</td>\n",
       "      <td>0.0</td>\n",
       "      <td>2.0</td>\n",
       "      <td>0.0</td>\n",
       "      <td>12</td>\n",
       "      <td>3</td>\n",
       "      <td>8</td>\n",
       "      <td>41.903416</td>\n",
       "      <td>-87.656037</td>\n",
       "      <td>POINT (-87.65603711678 41.903416088848)</td>\n",
       "    </tr>\n",
       "    <tr>\n",
       "      <th>1</th>\n",
       "      <td>O10</td>\n",
       "      <td>DRIVER</td>\n",
       "      <td>HY368708</td>\n",
       "      <td>10.0</td>\n",
       "      <td>08/04/2015 12:40:00 PM</td>\n",
       "      <td>NaN</td>\n",
       "      <td>CHICAGO</td>\n",
       "      <td>IL</td>\n",
       "      <td>60641</td>\n",
       "      <td>M</td>\n",
       "      <td>...</td>\n",
       "      <td>0.0</td>\n",
       "      <td>0.0</td>\n",
       "      <td>2.0</td>\n",
       "      <td>0.0</td>\n",
       "      <td>12</td>\n",
       "      <td>3</td>\n",
       "      <td>8</td>\n",
       "      <td>41.903416</td>\n",
       "      <td>-87.656037</td>\n",
       "      <td>POINT (-87.65603711678 41.903416088848)</td>\n",
       "    </tr>\n",
       "    <tr>\n",
       "      <th>2</th>\n",
       "      <td>O11</td>\n",
       "      <td>DRIVER</td>\n",
       "      <td>HY368708</td>\n",
       "      <td>11.0</td>\n",
       "      <td>08/04/2015 12:40:00 PM</td>\n",
       "      <td>NaN</td>\n",
       "      <td>ORLAND PARK</td>\n",
       "      <td>IL</td>\n",
       "      <td>60462</td>\n",
       "      <td>M</td>\n",
       "      <td>...</td>\n",
       "      <td>0.0</td>\n",
       "      <td>0.0</td>\n",
       "      <td>2.0</td>\n",
       "      <td>0.0</td>\n",
       "      <td>12</td>\n",
       "      <td>3</td>\n",
       "      <td>8</td>\n",
       "      <td>41.903416</td>\n",
       "      <td>-87.656037</td>\n",
       "      <td>POINT (-87.65603711678 41.903416088848)</td>\n",
       "    </tr>\n",
       "    <tr>\n",
       "      <th>3</th>\n",
       "      <td>O11</td>\n",
       "      <td>DRIVER</td>\n",
       "      <td>HY368708</td>\n",
       "      <td>11.0</td>\n",
       "      <td>08/04/2015 12:40:00 PM</td>\n",
       "      <td>NaN</td>\n",
       "      <td>ORLAND PARK</td>\n",
       "      <td>IL</td>\n",
       "      <td>60462</td>\n",
       "      <td>M</td>\n",
       "      <td>...</td>\n",
       "      <td>0.0</td>\n",
       "      <td>0.0</td>\n",
       "      <td>2.0</td>\n",
       "      <td>0.0</td>\n",
       "      <td>12</td>\n",
       "      <td>3</td>\n",
       "      <td>8</td>\n",
       "      <td>41.903416</td>\n",
       "      <td>-87.656037</td>\n",
       "      <td>POINT (-87.65603711678 41.903416088848)</td>\n",
       "    </tr>\n",
       "    <tr>\n",
       "      <th>4</th>\n",
       "      <td>O100</td>\n",
       "      <td>DRIVER</td>\n",
       "      <td>HY374018</td>\n",
       "      <td>96.0</td>\n",
       "      <td>07/31/2015 05:50:00 PM</td>\n",
       "      <td>NaN</td>\n",
       "      <td>ELK GROVE</td>\n",
       "      <td>IL</td>\n",
       "      <td>60007</td>\n",
       "      <td>M</td>\n",
       "      <td>...</td>\n",
       "      <td>0.0</td>\n",
       "      <td>0.0</td>\n",
       "      <td>2.0</td>\n",
       "      <td>0.0</td>\n",
       "      <td>17</td>\n",
       "      <td>6</td>\n",
       "      <td>7</td>\n",
       "      <td>41.848588</td>\n",
       "      <td>-87.618689</td>\n",
       "      <td>POINT (-87.618688565091 41.848587734205)</td>\n",
       "    </tr>\n",
       "  </tbody>\n",
       "</table>\n",
       "<p>5 rows × 146 columns</p>\n",
       "</div>"
      ],
      "text/plain": [
       "  PERSON_ID PERSON_TYPE     RD_NO  VEHICLE_ID_x              CRASH_DATE  \\\n",
       "0       O10      DRIVER  HY368708          10.0  08/04/2015 12:40:00 PM   \n",
       "1       O10      DRIVER  HY368708          10.0  08/04/2015 12:40:00 PM   \n",
       "2       O11      DRIVER  HY368708          11.0  08/04/2015 12:40:00 PM   \n",
       "3       O11      DRIVER  HY368708          11.0  08/04/2015 12:40:00 PM   \n",
       "4      O100      DRIVER  HY374018          96.0  07/31/2015 05:50:00 PM   \n",
       "\n",
       "   SEAT_NO         CITY STATE ZIPCODE SEX  \\\n",
       "0      NaN      CHICAGO    IL   60641   M   \n",
       "1      NaN      CHICAGO    IL   60641   M   \n",
       "2      NaN  ORLAND PARK    IL   60462   M   \n",
       "3      NaN  ORLAND PARK    IL   60462   M   \n",
       "4      NaN    ELK GROVE    IL   60007   M   \n",
       "\n",
       "                     ...                     INJURIES_NON_INCAPACITATING  \\\n",
       "0                    ...                                             0.0   \n",
       "1                    ...                                             0.0   \n",
       "2                    ...                                             0.0   \n",
       "3                    ...                                             0.0   \n",
       "4                    ...                                             0.0   \n",
       "\n",
       "  INJURIES_REPORTED_NOT_EVIDENT INJURIES_NO_INDICATION INJURIES_UNKNOWN  \\\n",
       "0                           0.0                    2.0              0.0   \n",
       "1                           0.0                    2.0              0.0   \n",
       "2                           0.0                    2.0              0.0   \n",
       "3                           0.0                    2.0              0.0   \n",
       "4                           0.0                    2.0              0.0   \n",
       "\n",
       "  CRASH_HOUR CRASH_DAY_OF_WEEK CRASH_MONTH   LATITUDE  LONGITUDE  \\\n",
       "0         12                 3           8  41.903416 -87.656037   \n",
       "1         12                 3           8  41.903416 -87.656037   \n",
       "2         12                 3           8  41.903416 -87.656037   \n",
       "3         12                 3           8  41.903416 -87.656037   \n",
       "4         17                 6           7  41.848588 -87.618689   \n",
       "\n",
       "                                   LOCATION  \n",
       "0   POINT (-87.65603711678 41.903416088848)  \n",
       "1   POINT (-87.65603711678 41.903416088848)  \n",
       "2   POINT (-87.65603711678 41.903416088848)  \n",
       "3   POINT (-87.65603711678 41.903416088848)  \n",
       "4  POINT (-87.618688565091 41.848587734205)  \n",
       "\n",
       "[5 rows x 146 columns]"
      ]
     },
     "execution_count": 45,
     "metadata": {},
     "output_type": "execute_result"
    }
   ],
   "source": [
    "merge_table2 = pd.merge(traffic_people, merge_table, on=\"RD_NO\", how=\"outer\")\n",
    "merge_table2.to_csv('merge_table2.csv')\n",
    "merge_table2.head()"
   ]
  },
  {
   "cell_type": "code",
   "execution_count": 51,
   "metadata": {},
   "outputs": [],
   "source": [
    "#separate BAC by region id for mapping BAC \n",
    "grouped_man = merge_table2[['BAC_RESULT VALUE', 'LATITUDE', 'LONGITUDE']]\n",
    "BAC_latlong2=pd.DataFrame(grouped_man)\n",
    "BAC_latlong2.to_csv('BAC.csv')"
   ]
  },
  {
   "cell_type": "code",
   "execution_count": 52,
   "metadata": {},
   "outputs": [
    {
     "data": {
      "text/html": [
       "<div>\n",
       "<style scoped>\n",
       "    .dataframe tbody tr th:only-of-type {\n",
       "        vertical-align: middle;\n",
       "    }\n",
       "\n",
       "    .dataframe tbody tr th {\n",
       "        vertical-align: top;\n",
       "    }\n",
       "\n",
       "    .dataframe thead th {\n",
       "        text-align: right;\n",
       "    }\n",
       "</style>\n",
       "<table border=\"1\" class=\"dataframe\">\n",
       "  <thead>\n",
       "    <tr style=\"text-align: right;\">\n",
       "      <th></th>\n",
       "      <th>index</th>\n",
       "      <th>Count</th>\n",
       "      <th>LATITUDE</th>\n",
       "      <th>LONGITUDE</th>\n",
       "      <th>Region ID</th>\n",
       "    </tr>\n",
       "  </thead>\n",
       "  <tbody>\n",
       "    <tr>\n",
       "      <th>313</th>\n",
       "      <td>313</td>\n",
       "      <td>0.04</td>\n",
       "      <td>41.876094</td>\n",
       "      <td>-87.677481</td>\n",
       "      <td></td>\n",
       "    </tr>\n",
       "    <tr>\n",
       "      <th>3714</th>\n",
       "      <td>3714</td>\n",
       "      <td>0.23</td>\n",
       "      <td>41.837782</td>\n",
       "      <td>-87.720563</td>\n",
       "      <td></td>\n",
       "    </tr>\n",
       "    <tr>\n",
       "      <th>3715</th>\n",
       "      <td>3715</td>\n",
       "      <td>0.23</td>\n",
       "      <td>41.837782</td>\n",
       "      <td>-87.720563</td>\n",
       "      <td></td>\n",
       "    </tr>\n",
       "    <tr>\n",
       "      <th>3716</th>\n",
       "      <td>3716</td>\n",
       "      <td>0.23</td>\n",
       "      <td>41.837782</td>\n",
       "      <td>-87.720563</td>\n",
       "      <td></td>\n",
       "    </tr>\n",
       "    <tr>\n",
       "      <th>3717</th>\n",
       "      <td>3717</td>\n",
       "      <td>0.23</td>\n",
       "      <td>41.837782</td>\n",
       "      <td>-87.720563</td>\n",
       "      <td></td>\n",
       "    </tr>\n",
       "  </tbody>\n",
       "</table>\n",
       "</div>"
      ],
      "text/plain": [
       "      index  Count   LATITUDE  LONGITUDE Region ID\n",
       "313     313   0.04  41.876094 -87.677481          \n",
       "3714   3714   0.23  41.837782 -87.720563          \n",
       "3715   3715   0.23  41.837782 -87.720563          \n",
       "3716   3716   0.23  41.837782 -87.720563          \n",
       "3717   3717   0.23  41.837782 -87.720563          "
      ]
     },
     "execution_count": 52,
     "metadata": {},
     "output_type": "execute_result"
    }
   ],
   "source": [
    "bac_latlong4=BAC_latlong3.reset_index(level=None, drop=False, inplace=False, col_level=0, col_fill='')\n",
    "bac_latlong4.dropna(how='any', inplace=True)  \n",
    "bac_latlong4[\"Region ID\"]=\"\"\n",
    "bac_latlong4.head()"
   ]
  },
  {
   "cell_type": "code",
   "execution_count": 53,
   "metadata": {},
   "outputs": [
    {
     "name": "stderr",
     "output_type": "stream",
     "text": [
      "C:\\Users\\emhar\\Anaconda3\\envs\\pleasework\\lib\\site-packages\\ipykernel_launcher.py:5: SettingWithCopyWarning: \n",
      "A value is trying to be set on a copy of a slice from a DataFrame\n",
      "\n",
      "See the caveats in the documentation: http://pandas.pydata.org/pandas-docs/stable/indexing.html#indexing-view-versus-copy\n",
      "  \"\"\"\n"
     ]
    }
   ],
   "source": [
    "#Assign region ID\n",
    "for index, row in bac_latlong4.iterrows():\n",
    "    for index2, row2 in regions_df1.iterrows():\n",
    "        if ((bac_latlong4[\"LATITUDE\"][index] < regions_df1[\" NORTH\"][index2]) & (bac_latlong4[\"LATITUDE\"][index] > regions_df1[\" SOUTH\"][index2]) & (bac_latlong4[\"LONGITUDE\"][index] > regions_df1[\" WEST\"][index2]) & (bac_latlong4[\"LONGITUDE\"][index] < regions_df1[\" EAST\"][index2])):\n",
    "            bac_latlong4[\"Region ID\"][index] = regions_df1[\" REGION_ID\"][index2]"
   ]
  },
  {
   "cell_type": "code",
   "execution_count": 54,
   "metadata": {},
   "outputs": [
    {
     "data": {
      "text/html": [
       "<div>\n",
       "<style scoped>\n",
       "    .dataframe tbody tr th:only-of-type {\n",
       "        vertical-align: middle;\n",
       "    }\n",
       "\n",
       "    .dataframe tbody tr th {\n",
       "        vertical-align: top;\n",
       "    }\n",
       "\n",
       "    .dataframe thead th {\n",
       "        text-align: right;\n",
       "    }\n",
       "</style>\n",
       "<table border=\"1\" class=\"dataframe\">\n",
       "  <thead>\n",
       "    <tr style=\"text-align: right;\">\n",
       "      <th></th>\n",
       "      <th>index</th>\n",
       "      <th>Count</th>\n",
       "      <th>LATITUDE</th>\n",
       "      <th>LONGITUDE</th>\n",
       "      <th>Region ID</th>\n",
       "    </tr>\n",
       "  </thead>\n",
       "  <tbody>\n",
       "    <tr>\n",
       "      <th>313</th>\n",
       "      <td>313</td>\n",
       "      <td>0.04</td>\n",
       "      <td>41.876094</td>\n",
       "      <td>-87.677481</td>\n",
       "      <td>11</td>\n",
       "    </tr>\n",
       "    <tr>\n",
       "      <th>3714</th>\n",
       "      <td>3714</td>\n",
       "      <td>0.23</td>\n",
       "      <td>41.837782</td>\n",
       "      <td>-87.720563</td>\n",
       "      <td>14</td>\n",
       "    </tr>\n",
       "    <tr>\n",
       "      <th>3715</th>\n",
       "      <td>3715</td>\n",
       "      <td>0.23</td>\n",
       "      <td>41.837782</td>\n",
       "      <td>-87.720563</td>\n",
       "      <td>14</td>\n",
       "    </tr>\n",
       "    <tr>\n",
       "      <th>3716</th>\n",
       "      <td>3716</td>\n",
       "      <td>0.23</td>\n",
       "      <td>41.837782</td>\n",
       "      <td>-87.720563</td>\n",
       "      <td>14</td>\n",
       "    </tr>\n",
       "    <tr>\n",
       "      <th>3717</th>\n",
       "      <td>3717</td>\n",
       "      <td>0.23</td>\n",
       "      <td>41.837782</td>\n",
       "      <td>-87.720563</td>\n",
       "      <td>14</td>\n",
       "    </tr>\n",
       "  </tbody>\n",
       "</table>\n",
       "</div>"
      ],
      "text/plain": [
       "      index  Count   LATITUDE  LONGITUDE Region ID\n",
       "313     313   0.04  41.876094 -87.677481        11\n",
       "3714   3714   0.23  41.837782 -87.720563        14\n",
       "3715   3715   0.23  41.837782 -87.720563        14\n",
       "3716   3716   0.23  41.837782 -87.720563        14\n",
       "3717   3717   0.23  41.837782 -87.720563        14"
      ]
     },
     "execution_count": 54,
     "metadata": {},
     "output_type": "execute_result"
    }
   ],
   "source": [
    "bac_latlong4.head()"
   ]
  },
  {
   "cell_type": "code",
   "execution_count": 55,
   "metadata": {},
   "outputs": [
    {
     "data": {
      "text/plain": [
       "14    115\n",
       "8     115\n",
       "18    104\n",
       "5      93\n",
       "11     92\n",
       "7      88\n",
       "23     87\n",
       "24     78\n",
       "9      68\n",
       "21     64\n",
       "10     63\n",
       "19     62\n",
       "6      61\n",
       "15     55\n",
       "3      51\n",
       "20     50\n",
       "1      40\n",
       "26     39\n",
       "28     29\n",
       "2      28\n",
       "27     28\n",
       "12     26\n",
       "29     21\n",
       "22     20\n",
       "16     15\n",
       "13     14\n",
       "4      14\n",
       "25     12\n",
       "17      7\n",
       "        7\n",
       "Name: Region ID, dtype: int64"
      ]
     },
     "execution_count": 55,
     "metadata": {},
     "output_type": "execute_result"
    }
   ],
   "source": [
    "bac_latlong4['Region ID'].value_counts()"
   ]
  },
  {
   "cell_type": "code",
   "execution_count": 172,
   "metadata": {},
   "outputs": [],
   "source": [
    "#create data frame from the average age of drivers in Illinois data \n",
    "age_all=[17, 17, 17, 17, 17, 17, 17, 17, 17, 22, 22, 22, 22, 22, 22, 22, 22, 22, 22, 22, 22, 22, 22, 22, 22, 27, 27, 27, 27, 27, 27, 27, 27, 27, 27, 27, 27, 27, 27, 27, 27, 27, 14, 32, 32,32,32,32,32,32,32,32,32,32,32,32,32,32,32,32,32,37,37, 37, 37, 37, 37, 37, 37, 37, 37, 37, 37, 37, 37, 37, 37, 37, 37, 37, 37, 37, 42, 42,42,42,42,42,42,42,42,42,42,42,42,42,42,42,42,42,42,42,42, 47, 47, 47, 47, 47, 47, 47, 47, 47, 47, 47, 47, 47, 47, 47, 47, 47, 47, 47, 52, 52, 52, 52, 52, 52, 52, 52, 52, 52, 52, 52, 52, 52, 52, 52, 52, 57, 57, 57, 57, 57, 57, 57, 57, 57, 57, 57, 57, 27, 62, 62, 62, 62, 62, 62, 62, 62, 62, 62, 67, 67, 67, 67, 67, 67, 67, 67, 72, 72, 72, 72, 72, 72, 72, 77, 77, 77, 77, 77, 77, 82, 82, 82, 82, 90, 90]"
   ]
  },
  {
   "cell_type": "code",
   "execution_count": 173,
   "metadata": {},
   "outputs": [
    {
     "data": {
      "text/plain": [
       "Ttest_indResult(statistic=nan, pvalue=nan)"
      ]
     },
     "execution_count": 173,
     "metadata": {},
     "output_type": "execute_result"
    }
   ],
   "source": [
    "import scipy.stats as stats\n",
    "statses = stats.ttest_ind(40.066, 44.3, equal_var=False)\n",
    "statses"
   ]
  },
  {
   "cell_type": "code",
   "execution_count": 175,
   "metadata": {},
   "outputs": [],
   "source": [
    "age_all_df= pd.DataFrame(age_all)"
   ]
  },
  {
   "cell_type": "code",
   "execution_count": 176,
   "metadata": {},
   "outputs": [
    {
     "data": {
      "text/plain": [
       "0    44.079365\n",
       "dtype: float64"
      ]
     },
     "execution_count": 176,
     "metadata": {},
     "output_type": "execute_result"
    }
   ],
   "source": [
    "#Mean of drivers in Illinois\n",
    "age_all_df.mean()\n"
   ]
  },
  {
   "cell_type": "code",
   "execution_count": 177,
   "metadata": {},
   "outputs": [
    {
     "data": {
      "text/plain": [
       "40.17736597538698"
      ]
     },
     "execution_count": 177,
     "metadata": {},
     "output_type": "execute_result"
    }
   ],
   "source": [
    "#Mean of drivers involved in crashes in Chicago\n",
    "age_driver1['AGE'].mean()"
   ]
  },
  {
   "cell_type": "code",
   "execution_count": 178,
   "metadata": {},
   "outputs": [
    {
     "name": "stdout",
     "output_type": "stream",
     "text": [
      "t-statistics is [-3.08281211].\n",
      "p-value is [0.0023588].\n"
     ]
    }
   ],
   "source": [
    "#run t-test between mean age of total drivers in Illinois and mean age of drivers involved in accidents in Chicago\n",
    "(t_stat, p) = stats.ttest_ind(age_driver1['AGE'], age_all_df, equal_var=False)\n",
    "print(\"t-statistics is {}.\".format(t_stat))\n",
    "print(\"p-value is {}.\".format(p))"
   ]
  },
  {
   "cell_type": "code",
   "execution_count": 183,
   "metadata": {},
   "outputs": [],
   "source": [
    "#create a data frame for pair plot\n",
    "tttt='C:/Users/emhar/Desktop/PythonStuff/Crashes_w_Region_cleaned.csv'\n",
    "complete_df=pd.read_csv(tttt)"
   ]
  },
  {
   "cell_type": "code",
   "execution_count": 181,
   "metadata": {},
   "outputs": [],
   "source": [
    "merge_table3 = pd.merge(complete_df, merge_table2, on=\"RD_NO\", how=\"outer\")\n"
   ]
  },
  {
   "cell_type": "code",
   "execution_count": 182,
   "metadata": {},
   "outputs": [
    {
     "name": "stderr",
     "output_type": "stream",
     "text": [
      "C:\\Users\\emhar\\Anaconda3\\envs\\pleasework\\lib\\site-packages\\ipykernel_launcher.py:3: SettingWithCopyWarning: \n",
      "A value is trying to be set on a copy of a slice from a DataFrame\n",
      "\n",
      "See the caveats in the documentation: http://pandas.pydata.org/pandas-docs/stable/indexing.html#indexing-view-versus-copy\n",
      "  This is separate from the ipykernel package so we can avoid doing imports until\n"
     ]
    }
   ],
   "source": [
    "\n",
    "organized_df = merge_table3[[\"LATITUDE\",\"LONGITUDE\",\"EXCEED_SPEED_LIMIT_I\"]]\n",
    "organized_df.dropna(how='any', inplace=True)  \n",
    "organized_df\n",
    "organized_df.to_csv('organized_df.csv')"
   ]
  },
  {
   "cell_type": "code",
   "execution_count": 184,
   "metadata": {},
   "outputs": [
    {
     "data": {
      "text/html": [
       "<div>\n",
       "<style scoped>\n",
       "    .dataframe tbody tr th:only-of-type {\n",
       "        vertical-align: middle;\n",
       "    }\n",
       "\n",
       "    .dataframe tbody tr th {\n",
       "        vertical-align: top;\n",
       "    }\n",
       "\n",
       "    .dataframe thead th {\n",
       "        text-align: right;\n",
       "    }\n",
       "</style>\n",
       "<table border=\"1\" class=\"dataframe\">\n",
       "  <thead>\n",
       "    <tr style=\"text-align: right;\">\n",
       "      <th></th>\n",
       "      <th>index</th>\n",
       "      <th>crash_count</th>\n",
       "      <th>red_light_camera_count</th>\n",
       "      <th>speed_camera_count</th>\n",
       "    </tr>\n",
       "  </thead>\n",
       "  <tbody>\n",
       "    <tr>\n",
       "      <th>0</th>\n",
       "      <td>1</td>\n",
       "      <td>5106</td>\n",
       "      <td>2.0</td>\n",
       "      <td>1.0</td>\n",
       "    </tr>\n",
       "    <tr>\n",
       "      <th>1</th>\n",
       "      <td>2</td>\n",
       "      <td>7593</td>\n",
       "      <td>7.0</td>\n",
       "      <td>7.0</td>\n",
       "    </tr>\n",
       "    <tr>\n",
       "      <th>2</th>\n",
       "      <td>3</td>\n",
       "      <td>10364</td>\n",
       "      <td>10.0</td>\n",
       "      <td>10.0</td>\n",
       "    </tr>\n",
       "    <tr>\n",
       "      <th>3</th>\n",
       "      <td>4</td>\n",
       "      <td>5864</td>\n",
       "      <td>5.0</td>\n",
       "      <td>3.0</td>\n",
       "    </tr>\n",
       "    <tr>\n",
       "      <th>4</th>\n",
       "      <td>5</td>\n",
       "      <td>12253</td>\n",
       "      <td>15.0</td>\n",
       "      <td>16.0</td>\n",
       "    </tr>\n",
       "  </tbody>\n",
       "</table>\n",
       "</div>"
      ],
      "text/plain": [
       "   index  crash_count  red_light_camera_count  speed_camera_count\n",
       "0      1         5106                     2.0                 1.0\n",
       "1      2         7593                     7.0                 7.0\n",
       "2      3        10364                    10.0                10.0\n",
       "3      4         5864                     5.0                 3.0\n",
       "4      5        12253                    15.0                16.0"
      ]
     },
     "execution_count": 184,
     "metadata": {},
     "output_type": "execute_result"
    }
   ],
   "source": [
    "ttt='C:/Users/emhar/Desktop/PythonStuff/regions.csv'\n",
    "region_df=pd.read_csv(ttt)\n",
    "region_df1=region_df.reset_index(level=None, drop=False, inplace=False, col_level=0, col_fill='')\n",
    "region_df1.head()"
   ]
  },
  {
   "cell_type": "code",
   "execution_count": 75,
   "metadata": {},
   "outputs": [
    {
     "data": {
      "text/html": [
       "<div>\n",
       "<style scoped>\n",
       "    .dataframe tbody tr th:only-of-type {\n",
       "        vertical-align: middle;\n",
       "    }\n",
       "\n",
       "    .dataframe tbody tr th {\n",
       "        vertical-align: top;\n",
       "    }\n",
       "\n",
       "    .dataframe thead th {\n",
       "        text-align: right;\n",
       "    }\n",
       "</style>\n",
       "<table border=\"1\" class=\"dataframe\">\n",
       "  <thead>\n",
       "    <tr style=\"text-align: right;\">\n",
       "      <th></th>\n",
       "      <th>REGION_ID</th>\n",
       "      <th>BUS COUNT</th>\n",
       "      <th>NUMBER OF READS</th>\n",
       "      <th>SPEED</th>\n",
       "      <th>congestion</th>\n",
       "    </tr>\n",
       "  </thead>\n",
       "  <tbody>\n",
       "    <tr>\n",
       "      <th>0</th>\n",
       "      <td>1</td>\n",
       "      <td>22.179399</td>\n",
       "      <td>347.628862</td>\n",
       "      <td>21.760622</td>\n",
       "      <td>51.643062</td>\n",
       "    </tr>\n",
       "    <tr>\n",
       "      <th>1</th>\n",
       "      <td>2</td>\n",
       "      <td>31.168334</td>\n",
       "      <td>460.184192</td>\n",
       "      <td>27.399208</td>\n",
       "      <td>39.112871</td>\n",
       "    </tr>\n",
       "    <tr>\n",
       "      <th>2</th>\n",
       "      <td>3</td>\n",
       "      <td>47.428873</td>\n",
       "      <td>728.835985</td>\n",
       "      <td>22.058373</td>\n",
       "      <td>50.981392</td>\n",
       "    </tr>\n",
       "    <tr>\n",
       "      <th>3</th>\n",
       "      <td>4</td>\n",
       "      <td>33.396979</td>\n",
       "      <td>514.981728</td>\n",
       "      <td>20.647313</td>\n",
       "      <td>54.117083</td>\n",
       "    </tr>\n",
       "    <tr>\n",
       "      <th>4</th>\n",
       "      <td>5</td>\n",
       "      <td>48.083678</td>\n",
       "      <td>845.004620</td>\n",
       "      <td>23.378937</td>\n",
       "      <td>48.046807</td>\n",
       "    </tr>\n",
       "  </tbody>\n",
       "</table>\n",
       "</div>"
      ],
      "text/plain": [
       "   REGION_ID  BUS COUNT  NUMBER OF READS                            SPEED  \\\n",
       "0          1  22.179399                             347.628862  21.760622   \n",
       "1          2  31.168334                             460.184192  27.399208   \n",
       "2          3  47.428873                             728.835985  22.058373   \n",
       "3          4  33.396979                             514.981728  20.647313   \n",
       "4          5  48.083678                             845.004620  23.378937   \n",
       "\n",
       "   congestion  \n",
       "0   51.643062  \n",
       "1   39.112871  \n",
       "2   50.981392  \n",
       "3   54.117083  \n",
       "4   48.046807  "
      ]
     },
     "execution_count": 75,
     "metadata": {},
     "output_type": "execute_result"
    }
   ],
   "source": [
    "cr_df='C:/Users/emhar/Desktop/PythonStuff/congestion_region.csv'\n",
    "congestion_region=pd.read_csv(cr_df)\n",
    "congestion_region.head()"
   ]
  },
  {
   "cell_type": "code",
   "execution_count": 185,
   "metadata": {},
   "outputs": [],
   "source": [
    "merge_region = pd.merge(violations, region_df1, on=\"index\", how=\"outer\")\n",
    "del merge_region['index']\n",
    "merge_region['congestion']=congestion_region['congestion']"
   ]
  },
  {
   "cell_type": "code",
   "execution_count": 186,
   "metadata": {},
   "outputs": [
    {
     "data": {
      "text/plain": [
       "<seaborn.axisgrid.PairGrid at 0x2cb0132df98>"
      ]
     },
     "execution_count": 186,
     "metadata": {},
     "output_type": "execute_result"
    },
    {
     "data": {
      "image/png": "[encoded data removed]",
      "text/plain": [
       "<Figure size 1260x1260 with 56 Axes>"
      ]
     },
     "metadata": {
      "needs_background": "light"
     },
     "output_type": "display_data"
    }
   ],
   "source": [
    "# Seaborn visualization library\n",
    "import seaborn as sns\n",
    "# Create the default pairplot\n",
    "sns.pairplot(merge_region)"
   ]
  }
 ],
 "metadata": {
  "kernelspec": {
   "display_name": "Python 3",
   "language": "python",
   "name": "python3"
  },
  "language_info": {
   "codemirror_mode": {
    "name": "ipython",
    "version": 3
   },
   "file_extension": ".py",
   "mimetype": "text/x-python",
   "name": "python",
   "nbconvert_exporter": "python",
   "pygments_lexer": "ipython3",
   "version": "3.7.1"
  }
 },
 "nbformat": 4,
 "nbformat_minor": 2
}
